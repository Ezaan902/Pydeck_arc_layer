{
 "cells": [
  {
   "cell_type": "code",
   "execution_count": null,
   "metadata": {},
   "outputs": [],
   "source": [
    "from turtle import *\n",
    "\n",
    "Screen().bgcolor('black')\n",
    "\n",
    "t= Turtle()\n",
    "t.pencolor('red')\n",
    "\n",
    "t.color(\"white\", \"white\")\n",
    "t.left(90)\n",
    "t.forward (40)\n",
    "t.right(90)\n",
    "t.circle(40, 90)\n",
    "t.forward(80)\n",
    "t.circle(20, 180)\n",
    "t.right(180)\n",
    "t.circle(20, 180)\n",
    "t.right(180)\n",
    "t.forward(80)\n",
    "t.circle(20,180)\n",
    "t.forward(80)\n",
    "t.right(180)\n",
    "t.circle(20,180)\n",
    "t.forward(80)\n",
    "t.right(180)\n",
    "t.penup()\n",
    "t.forward(40)\n",
    "t.pendown()\n",
    "t.circle(20,180)\n",
    "t.left(50)\n",
    "t.forward(50)\n",
    "t.right(50)\n",
    "t.circle(40,90)\n",
    "t.right(90)\n",
    "t.forward(40)\n",
    "t.left(90)\n",
    "t.forward(80)\n",
    "\n",
    "done()"
   ]
  }
 ],
 "metadata": {
  "kernelspec": {
   "display_name": "Python 3",
   "language": "python",
   "name": "python3"
  },
  "language_info": {
   "codemirror_mode": {
    "name": "ipython",
    "version": 3
   },
   "file_extension": ".py",
   "mimetype": "text/x-python",
   "name": "python",
   "nbconvert_exporter": "python",
   "pygments_lexer": "ipython3",
   "version": "3.10.11"
  }
 },
 "nbformat": 4,
 "nbformat_minor": 2
}
